{
 "cells": [
  {
   "cell_type": "code",
   "execution_count": 9,
   "metadata": {},
   "outputs": [],
   "source": [
    "import tkinter as tk\n",
    "import matplotlib.pyplot as plt\n",
    "from matplotlib.backends.backend_tkagg import FigureCanvasTkAgg\n",
    "import pandas as pd\n",
    "import matplotlib as mpl\n",
    "from sklearn.preprocessing import MinMaxScaler\n",
    "import seaborn as sns\n",
    "import numpy as np\n",
    "import time\n",
    "import requests\n",
    "import json\n",
    "import os\n",
    "from threading import Thread\n",
    "from tkinter import filedialog, messagebox\n",
    "from matplotlib.figure import Figure\n",
    "import time\n",
    "from matplotlib.animation import FuncAnimation"
   ]
  },
  {
   "cell_type": "code",
   "execution_count": 10,
   "metadata": {},
   "outputs": [],
   "source": [
    "#Глобальные постоянные\n",
    "is_running = False\n",
    "file_index = 10\n",
    "file_name = None\n",
    "df = None"
   ]
  },
  {
   "cell_type": "code",
   "execution_count": 11,
   "metadata": {},
   "outputs": [],
   "source": [
    "#функция остановки записи\n",
    "def stop_data_process():\n",
    "    global is_running\n",
    "    is_running = False\n",
    "    global file_index \n",
    "    file_index += 1\n",
    "    messagebox.showinfo(\"Информация\", \"Запись данных остановлена.\")\n"
   ]
  },
  {
   "cell_type": "code",
   "execution_count": 12,
   "metadata": {},
   "outputs": [],
   "source": [
    "#Подготовка данных к предсказаниям\n",
    "\n",
    "def prepare_and_visualize_data(df, visualize=True):\n",
    "    TOTAL = df.shape[0]\n",
    "    TRAIN_VAL = int(TOTAL * 0.5)\n",
    "    VAL_TEST = int(TOTAL * 0.7)\n",
    "\n",
    "    my_scaler = MinMaxScaler()\n",
    "    df_scaled = my_scaler.fit_transform(df)\n",
    "    df = pd.DataFrame(df_scaled, columns=df.columns)\n",
    "    train_df = df[:TRAIN_VAL]\n",
    "    val_df = df[TRAIN_VAL:VAL_TEST]\n",
    "    test_df = df[VAL_TEST:]\n",
    "\n",
    "    if visualize:\n",
    "        df_std = df.melt(var_name='Column', value_name='Normalized')\n",
    "        # Clear the previous plot on the main figure\n",
    "        ax.clear() \n",
    "        sns.violinplot(x='Column', y='Normalized', data=df_std, ax=ax)\n",
    "        \n",
    "        # Set the tick positions before setting labels\n",
    "        ax.set_xticks(range(len(df.columns)))  \n",
    "        ax.set_xticklabels(df.columns, rotation=90)\n",
    "\n",
    "    canvas.draw()  # Redraw the main figure with the updated plot\n",
    "\n",
    "    return train_df, val_df, test_df"
   ]
  },
  {
   "cell_type": "code",
   "execution_count": 13,
   "metadata": {},
   "outputs": [],
   "source": [
    "#функция считывает названия параметров из файла и приводит в вид для считывания\n",
    "def process_excel_headers(excel_file):\n",
    "  df = pd.read_csv(excel_file)\n",
    "  fileheaders = list(df.columns)\n",
    "  fileheaders  = [header.lower() for header in fileheaders]\n",
    "  headerskey = fileheaders[0:14]\n",
    "  updated_list = [ item for item in headerskey]\n",
    "  jsonstring = str(updated_list)\n",
    "  jsonstring = jsonstring.replace(\"'\", '\"')    \n",
    "  return df, fileheaders, jsonstring\n",
    "\n",
    "excel_file = 'data_8_without_duplicates.csv'\n",
    "dk, fileheaders, jsonstring = process_excel_headers(excel_file)"
   ]
  },
  {
   "cell_type": "code",
   "execution_count": 14,
   "metadata": {},
   "outputs": [],
   "source": [
    "#Загрузка и обработка файла\n",
    "\n",
    "def downloadfile():\n",
    "    \"\"\"Загружает CSV-файл с устройства.\"\"\"\n",
    "    global file_name\n",
    "    file_name= filedialog.askopenfilename(\n",
    "        defaultextension=\".csv\",\n",
    "        filetypes=[(\"CSV files\", \"*.csv\"), (\"All files\", \"*.*\")]\n",
    "    )\n",
    "\n",
    "    if file_name:\n",
    "        try:\n",
    "            global df\n",
    "            global jsonstring  # Declare df as global to make it accessible from other functions\n",
    "            df, fileheaders, jsonstring = process_excel_headers(file_name)\n",
    "            btn2.config(state=tk.NORMAL)\n",
    "            messagebox.showinfo(\"Успешно\", \"Файл успешно загружен!\")\n",
    "        except Exception as e:\n",
    "            messagebox.showerror(\"Ошибка\", f\"Ошибка при загрузке файла: {e}\")\n",
    "    else:\n",
    "        messagebox.showinfo(\"Отмена\", \"Загрузка файла отменена\")\n"
   ]
  },
  {
   "cell_type": "code",
   "execution_count": 42,
   "metadata": {},
   "outputs": [],
   "source": [
    "#функция построения графика\n",
    "def plot_graph():\n",
    "    df = pd.read_csv('data_8_without_duplicates.csv')\n",
    "    if 'DateTime' not in df.columns:\n",
    "        messagebox.showinfo(\"Секунду\", \"Обрабатываем файл\")\n",
    "        df.columns = list(df.columns) + ['DateTime']\n",
    "\n",
    "    df.to_csv('data_8_without_duplicates.csv', index=False) \n",
    "    df['DateTime'] = pd.to_datetime(df['DateTime'], infer_datetime_format=True)\n",
    "\n",
    "    df.set_index('DateTime')[['ssx10mag10cp930','ssx10pab20ct001','ssx10pab10ct001','ssxtg_2ce003',\n",
    "                               'ssx10lca10ct001','ssx10pab10cf001','ssx10lbg11cp920','ssx10lbg40cp920',\n",
    "                               'ssx10pab60ct001','ssx10pab30ct001','ssx10maa01cp001','ssx10lca20cf001',\n",
    "                               'ssx10maa01ct001','ssx10pab30cf001']].plot(subplots=True, ax=axs.flatten(), sharex=True,  fontsize=6)\n",
    "    plt.show()\n"
   ]
  },
  {
   "cell_type": "code",
   "execution_count": 69,
   "metadata": {},
   "outputs": [],
   "source": [
    "# Функция построения графика\n",
    "def plot_graph():\n",
    "    df = pd.read_csv('data_8_without_duplicates.csv')\n",
    "    if 'DateTime' not in df.columns:\n",
    "        messagebox.showinfo(\"Секунду\", \"Обрабатываем файл\")\n",
    "        df.columns = list(df.columns) + ['DateTime']\n",
    "    df.to_csv('data_8_without_duplicates.csv', index=False)\n",
    "    df['DateTime'] = pd.to_datetime(df['DateTime'], infer_datetime_format=True)\n",
    "    df.set_index('DateTime')[['ssx10mag10cp930']].plot(ax=axs, sharex=True, fontsize=6)  \n",
    "    canvas.draw() # Перерисовка графика"
   ]
  },
  {
   "cell_type": "code",
   "execution_count": 20,
   "metadata": {},
   "outputs": [],
   "source": [
    "import pandas as pd\n",
    "import matplotlib.pyplot as plt\n",
    "from matplotlib.animation import FuncAnimation\n",
    "import time\n",
    "\n",
    "def draw_graphs(file_name= 'data_8_without_duplicates.csv'):\n",
    "    try:\n",
    "     df = pd.read_csv(file_name)\n",
    "     df.set_index('DateTime')[['ssx10mag10cp930','ssx10pab20ct001','ssx10pab10ct001','ssxtg_2ce003','ssx10lca10ct001','ssx10pab10cf001','ssx10lbg11cp920','ssx10lbg40cp920','ssx10pab60ct001','ssx10pab30ct001','ssx10maa01cp001','ssx10lca20cf001','ssx10maa01ct001','ssx10pab30cf001']]\n",
    "     if 'DateTime' in df.columns:\n",
    "        date_time = pd.to_datetime(df.pop('DateTime'), infer_datetime_format=True)\n",
    "        df.index = date_time\n",
    "     else:\n",
    "        print(\"Столбец 'DateTime' отсутствует в датафрейме.\")\n",
    "        return\n",
    "     fig, axs = plt.subplots(len(df.columns), 1, sharex=True)\n",
    "     fig.set_size_inches(8, 16)\n",
    "     lines = []\n",
    "     for i, column in enumerate(df.columns[:]):\n",
    "        ax = axs[i]\n",
    "        ax.figure.set_figheight(10)  # Высота каждого подграфика\n",
    "        ax.figure.set_figwidth(6)  # Ширина каждого подграфика\n",
    "        line, = ax.plot([], [], label=column)\n",
    "        lines.append(line)\n",
    "        #ax.set_ylabel(column)\n",
    "        ax.legend()\n",
    "        ax.tick_params(axis='x', labelrotation=45)\n",
    "\n",
    "     for ax in axs:\n",
    "        ax.grid(True)\n",
    "        ax.set_xlabel('DateTime')\n",
    "\n",
    "     def animate(i):\n",
    "        # Получение последних данных\n",
    "        last_data = df.index[i]\n",
    "        print(f\"Последние данные: {last_data}\")\n",
    "\n",
    "        # Обновление графика\n",
    "        for j, line in enumerate(lines):\n",
    "            column = df.columns[j]\n",
    "            line.set_data(df.index[:i+1].values, df[column][:i+1])\n",
    "            axs[j].set_ylim(df[column].min(), df[column].max())\n",
    "            axs[j].set_xlim(df.index[0], df.index[i+1])\n",
    "\n",
    "        # Дополнительная пауза для отображения обновления\n",
    "        plt.pause(1)  # Пауза на 10 миллисекунд\n",
    "        return lines\n",
    "\n",
    "     ani = FuncAnimation(fig, animate, frames=len(df), interval=1, blit=False)\n",
    "     plt.show()\n",
    "    except FileNotFoundError:\n",
    "        print(f\"Файл '{file_name}' не найден.\")\n",
    "\n",
    "def plot_graph(file_name='data_8_without_duplicates.csv'):\n",
    "    draw_graphs(file_name)\n",
    "#draw_graphs()\n",
    " "
   ]
  },
  {
   "cell_type": "code",
   "execution_count": 15,
   "metadata": {},
   "outputs": [],
   "source": [
    "#функции считывания переменных и создания переменных\n",
    "vardict = {}\n",
    "def fetch_dataz(url, prt_id, headers, string):\n",
    "    global vardict\n",
    "    prtData_GET = requests.get(url + '/JIS/prtData/' + prt_id, headers=headers)\n",
    "    if prtData_GET.status_code == 200:\n",
    "        resp = json.loads(prtData_GET.text)\n",
    "        if not vardict:\n",
    "             vardict = resp\n",
    "        state = list(resp['variables'].values())\n",
    "        print(state)\n",
    "        return state\n",
    "    return None\n",
    "\n",
    "def create_new_csv_filez(file_index, string):\n",
    "    global file\n",
    "    file_name = f'cached_data_{file_index}.csv'\n",
    "    ds = pd.DataFrame(columns=json.loads(string))\n",
    "    ds.to_csv(file_name, index=False)\n",
    "    print(f\"Created new file: {file_name}\")\n",
    "    return file_name"
   ]
  },
  {
   "cell_type": "code",
   "execution_count": 16,
   "metadata": {},
   "outputs": [],
   "source": [
    "def writerz(url, headers, string):\n",
    "    column_names = json.loads(string)\n",
    "    prtData_POST = requests.post(url + '/JIS/prtData',\n",
    "                                 data=json.dumps({\"variables\": json.loads(string)}),\n",
    "                                 headers=headers)\n",
    "    if prtData_POST.status_code == 201:\n",
    "        prt_id = prtData_POST.text.strip()\n",
    "        print(f\"prt_id: {prt_id}\")\n",
    "\n",
    "        global file_index\n",
    "        file_index = file_index\n",
    "        file_name = create_new_csv_filez(file_index, string)\n",
    "        buffer = []\n",
    "\n",
    "        while is_running:\n",
    "\n",
    "            data = fetch_dataz(url, prt_id, headers,string)\n",
    "            if data:\n",
    "                buffer.append(data)\n",
    "# Запись данных в текущий CSV файл\n",
    "            ds = pd.DataFrame(buffer,columns=column_names)  \n",
    "            ds['timestamp'] = pd.to_datetime('now', format='%Y-%m-%d %H:%M:%S') \n",
    "            ds.to_csv(file_name, mode='a', header=False, index=False)\n",
    "            time.sleep(0.7)\n",
    "            print(\"Uploaded successfully\")\n",
    "# Проверка размера файла и создание нового, если размер превышает 10 МБ            \n",
    "            if os.path.getsize(file_name) > 10 * 1024 * 1024:  # 10 MB\n",
    "                    file_index += 1\n",
    "                    file_name = create_new_csv_filez(file_index, string)\n",
    "\n",
    "                \n",
    "# Читска буфера\n",
    "            buffer = []"
   ]
  },
  {
   "cell_type": "code",
   "execution_count": 17,
   "metadata": {},
   "outputs": [],
   "source": [
    "#функция начала записи\n",
    "def start_data_process():\n",
    "   \n",
    "    global is_running\n",
    "    is_running = True\n",
    "    url = 'http://10.176.1.43:8190'\n",
    "    auth_POST = requests.post(url + '/JIS/users/login',\n",
    "                             data='{\"username\": \"instructor\", \"password\": \"\"}',\n",
    "                             headers={'Content-type': 'application/json'})\n",
    "    API_TOKEN = json.loads(auth_POST.text)['accessToken']\n",
    "    print(API_TOKEN)\n",
    "    headers = {'Authorization': f'Bearer {API_TOKEN}',\n",
    "           'Content-type': 'application/json'}    \n",
    "    Thread(target=plot_data, args=(url, headers, jsonstring), daemon=True).start()    \n",
    "    Thread(target=writerz, args=(url, headers, jsonstring), daemon=True).start()\n",
    "    # Теперь вы можете использовать GUI без блокировки основного потока\n",
    "    messagebox.showinfo(\"Информация\", \"Запись данных начата.\")\n"
   ]
  },
  {
   "cell_type": "code",
   "execution_count": 22,
   "metadata": {},
   "outputs": [
    {
     "name": "stderr",
     "output_type": "stream",
     "text": [
      "Exception in Tkinter callback\n",
      "Traceback (most recent call last):\n",
      "  File \"c:\\Users\\PC\\AppData\\Local\\Programs\\Python\\Python312\\Lib\\tkinter\\__init__.py\", line 1968, in __call__\n",
      "    return self.func(*args)\n",
      "           ^^^^^^^^^^^^^^^^\n",
      "  File \"C:\\Users\\PC\\AppData\\Local\\Temp\\ipykernel_1512\\3552206689.py\", line 19, in <lambda>\n",
      "    plot_button = tk.Button(root, text=\"Draw Grafics\", command=lambda: plot_graph(file_name), font=button_font, width=15, height=2)\n",
      "                                                                       ^^^^^^^^^^^^^^^^^^^^^\n",
      "  File \"C:\\Users\\PC\\AppData\\Local\\Temp\\ipykernel_1512\\1976920018.py\", line 55, in plot_graph\n",
      "    draw_graphs(file_name)\n",
      "  File \"C:\\Users\\PC\\AppData\\Local\\Temp\\ipykernel_1512\\1976920018.py\", line 8, in draw_graphs\n",
      "    df = pd.read_csv(file_name)\n",
      "         ^^^^^^^^^^^^^^^^^^^^^^\n",
      "  File \"c:\\Users\\PC\\AppData\\Local\\Programs\\Python\\Python312\\Lib\\site-packages\\pandas\\io\\parsers\\readers.py\", line 1026, in read_csv\n",
      "    return _read(filepath_or_buffer, kwds)\n",
      "           ^^^^^^^^^^^^^^^^^^^^^^^^^^^^^^^\n",
      "  File \"c:\\Users\\PC\\AppData\\Local\\Programs\\Python\\Python312\\Lib\\site-packages\\pandas\\io\\parsers\\readers.py\", line 620, in _read\n",
      "    parser = TextFileReader(filepath_or_buffer, **kwds)\n",
      "             ^^^^^^^^^^^^^^^^^^^^^^^^^^^^^^^^^^^^^^^^^^\n",
      "  File \"c:\\Users\\PC\\AppData\\Local\\Programs\\Python\\Python312\\Lib\\site-packages\\pandas\\io\\parsers\\readers.py\", line 1620, in __init__\n",
      "    self._engine = self._make_engine(f, self.engine)\n",
      "                   ^^^^^^^^^^^^^^^^^^^^^^^^^^^^^^^^^\n",
      "  File \"c:\\Users\\PC\\AppData\\Local\\Programs\\Python\\Python312\\Lib\\site-packages\\pandas\\io\\parsers\\readers.py\", line 1880, in _make_engine\n",
      "    self.handles = get_handle(\n",
      "                   ^^^^^^^^^^^\n",
      "  File \"c:\\Users\\PC\\AppData\\Local\\Programs\\Python\\Python312\\Lib\\site-packages\\pandas\\io\\common.py\", line 728, in get_handle\n",
      "    ioargs = _get_filepath_or_buffer(\n",
      "             ^^^^^^^^^^^^^^^^^^^^^^^^\n",
      "  File \"c:\\Users\\PC\\AppData\\Local\\Programs\\Python\\Python312\\Lib\\site-packages\\pandas\\io\\common.py\", line 472, in _get_filepath_or_buffer\n",
      "    raise ValueError(msg)\n",
      "ValueError: Invalid file path or buffer object type: <class 'NoneType'>\n",
      "Exception in Tkinter callback\n",
      "Traceback (most recent call last):\n",
      "  File \"c:\\Users\\PC\\AppData\\Local\\Programs\\Python\\Python312\\Lib\\tkinter\\__init__.py\", line 1968, in __call__\n",
      "    return self.func(*args)\n",
      "           ^^^^^^^^^^^^^^^^\n",
      "  File \"C:\\Users\\PC\\AppData\\Local\\Temp\\ipykernel_1512\\3552206689.py\", line 19, in <lambda>\n",
      "    plot_button = tk.Button(root, text=\"Draw Grafics\", command=lambda: plot_graph(file_name), font=button_font, width=15, height=2)\n",
      "                                                                       ^^^^^^^^^^^^^^^^^^^^^\n",
      "  File \"C:\\Users\\PC\\AppData\\Local\\Temp\\ipykernel_1512\\1976920018.py\", line 55, in plot_graph\n",
      "    draw_graphs(file_name)\n",
      "  File \"C:\\Users\\PC\\AppData\\Local\\Temp\\ipykernel_1512\\1976920018.py\", line 8, in draw_graphs\n",
      "    df = pd.read_csv(file_name)\n",
      "         ^^^^^^^^^^^^^^^^^^^^^^\n",
      "  File \"c:\\Users\\PC\\AppData\\Local\\Programs\\Python\\Python312\\Lib\\site-packages\\pandas\\io\\parsers\\readers.py\", line 1026, in read_csv\n",
      "    return _read(filepath_or_buffer, kwds)\n",
      "           ^^^^^^^^^^^^^^^^^^^^^^^^^^^^^^^\n",
      "  File \"c:\\Users\\PC\\AppData\\Local\\Programs\\Python\\Python312\\Lib\\site-packages\\pandas\\io\\parsers\\readers.py\", line 620, in _read\n",
      "    parser = TextFileReader(filepath_or_buffer, **kwds)\n",
      "             ^^^^^^^^^^^^^^^^^^^^^^^^^^^^^^^^^^^^^^^^^^\n",
      "  File \"c:\\Users\\PC\\AppData\\Local\\Programs\\Python\\Python312\\Lib\\site-packages\\pandas\\io\\parsers\\readers.py\", line 1620, in __init__\n",
      "    self._engine = self._make_engine(f, self.engine)\n",
      "                   ^^^^^^^^^^^^^^^^^^^^^^^^^^^^^^^^^\n",
      "  File \"c:\\Users\\PC\\AppData\\Local\\Programs\\Python\\Python312\\Lib\\site-packages\\pandas\\io\\parsers\\readers.py\", line 1880, in _make_engine\n",
      "    self.handles = get_handle(\n",
      "                   ^^^^^^^^^^^\n",
      "  File \"c:\\Users\\PC\\AppData\\Local\\Programs\\Python\\Python312\\Lib\\site-packages\\pandas\\io\\common.py\", line 728, in get_handle\n",
      "    ioargs = _get_filepath_or_buffer(\n",
      "             ^^^^^^^^^^^^^^^^^^^^^^^^\n",
      "  File \"c:\\Users\\PC\\AppData\\Local\\Programs\\Python\\Python312\\Lib\\site-packages\\pandas\\io\\common.py\", line 472, in _get_filepath_or_buffer\n",
      "    raise ValueError(msg)\n",
      "ValueError: Invalid file path or buffer object type: <class 'NoneType'>\n",
      "Exception in Tkinter callback\n",
      "Traceback (most recent call last):\n",
      "  File \"c:\\Users\\PC\\AppData\\Local\\Programs\\Python\\Python312\\Lib\\tkinter\\__init__.py\", line 1968, in __call__\n",
      "    return self.func(*args)\n",
      "           ^^^^^^^^^^^^^^^^\n",
      "  File \"C:\\Users\\PC\\AppData\\Local\\Temp\\ipykernel_1512\\3552206689.py\", line 19, in <lambda>\n",
      "    plot_button = tk.Button(root, text=\"Draw Grafics\", command=lambda: plot_graph(file_name), font=button_font, width=15, height=2)\n",
      "                                                                       ^^^^^^^^^^^^^^^^^^^^^\n",
      "  File \"C:\\Users\\PC\\AppData\\Local\\Temp\\ipykernel_1512\\1976920018.py\", line 55, in plot_graph\n",
      "    draw_graphs(file_name)\n",
      "  File \"C:\\Users\\PC\\AppData\\Local\\Temp\\ipykernel_1512\\1976920018.py\", line 8, in draw_graphs\n",
      "    df = pd.read_csv(file_name)\n",
      "         ^^^^^^^^^^^^^^^^^^^^^^\n",
      "  File \"c:\\Users\\PC\\AppData\\Local\\Programs\\Python\\Python312\\Lib\\site-packages\\pandas\\io\\parsers\\readers.py\", line 1026, in read_csv\n",
      "    return _read(filepath_or_buffer, kwds)\n",
      "           ^^^^^^^^^^^^^^^^^^^^^^^^^^^^^^^\n",
      "  File \"c:\\Users\\PC\\AppData\\Local\\Programs\\Python\\Python312\\Lib\\site-packages\\pandas\\io\\parsers\\readers.py\", line 620, in _read\n",
      "    parser = TextFileReader(filepath_or_buffer, **kwds)\n",
      "             ^^^^^^^^^^^^^^^^^^^^^^^^^^^^^^^^^^^^^^^^^^\n",
      "  File \"c:\\Users\\PC\\AppData\\Local\\Programs\\Python\\Python312\\Lib\\site-packages\\pandas\\io\\parsers\\readers.py\", line 1620, in __init__\n",
      "    self._engine = self._make_engine(f, self.engine)\n",
      "                   ^^^^^^^^^^^^^^^^^^^^^^^^^^^^^^^^^\n",
      "  File \"c:\\Users\\PC\\AppData\\Local\\Programs\\Python\\Python312\\Lib\\site-packages\\pandas\\io\\parsers\\readers.py\", line 1880, in _make_engine\n",
      "    self.handles = get_handle(\n",
      "                   ^^^^^^^^^^^\n",
      "  File \"c:\\Users\\PC\\AppData\\Local\\Programs\\Python\\Python312\\Lib\\site-packages\\pandas\\io\\common.py\", line 728, in get_handle\n",
      "    ioargs = _get_filepath_or_buffer(\n",
      "             ^^^^^^^^^^^^^^^^^^^^^^^^\n",
      "  File \"c:\\Users\\PC\\AppData\\Local\\Programs\\Python\\Python312\\Lib\\site-packages\\pandas\\io\\common.py\", line 472, in _get_filepath_or_buffer\n",
      "    raise ValueError(msg)\n",
      "ValueError: Invalid file path or buffer object type: <class 'NoneType'>\n"
     ]
    },
    {
     "data": {
      "image/png": "[encoded data removed]",
      "text/plain": [
       "<Figure size 553x560 with 1 Axes>"
      ]
     },
     "metadata": {},
     "output_type": "display_data"
    },
    {
     "data": {
      "image/png": "[encoded data removed]",
      "text/plain": [
       "<Figure size 1200x600 with 1 Axes>"
      ]
     },
     "metadata": {},
     "output_type": "display_data"
    }
   ],
   "source": [
    "#UI окно\n",
    "# Создаем главное окно\n",
    "root = tk.Tk()\n",
    "root.title(\"Простой интерфейс\")\n",
    "root.geometry(\"800x600\")\n",
    "\n",
    "# Настраиваем шрифт для кнопок\n",
    "button_font = (\"Times New Roman\", 6)\n",
    "\n",
    "# Добавьте кнопку для остановки записи данных\n",
    "btn_stop = tk.Button(root, text=\"Stop Data Recording\", command=stop_data_process, font=button_font, width=15, height=2)\n",
    "btn_stop.pack(side=tk.LEFT, padx=10, pady=5)\n",
    "\n",
    "# Создаем  кнопки с одинаковым размером\n",
    "btn1 = tk.Button(root, text=\"Download dataset\", command=lambda: downloadfile(), font=button_font, width=12, height=2)\n",
    "btn2 = tk.Button(root, text=\"Normalize data\", command=lambda: prepare_and_visualize_data(df), font=button_font, width=12, height=2)\n",
    "btn3 = tk.Button(root, text=\"Start Data Recording\", command=start_data_process, font=button_font, width=15, height=2)\n",
    "# Кнопка для построения графика\n",
    "plot_button = tk.Button(root, text=\"Draw Grafics\", command=lambda: plot_graph(file_name), font=button_font, width=15, height=2)\n",
    "plot_button.pack(side=tk.LEFT, padx=10, pady=5)\n",
    "# Размещаем кнопки в левом краю друг под другом с отступами\n",
    "btn1.pack(side=tk.LEFT, padx=10, pady=5)\n",
    "btn2.pack(side=tk.LEFT, padx=10, pady=5)\n",
    "btn3.pack(side=tk.LEFT, padx=10, pady=5)\n",
    "\n",
    "# Создаем рамку для разделения кнопок и графиков\n",
    "frame = tk.Frame(root)\n",
    "frame.pack(side=tk.TOP, padx=10, pady=10)\n",
    "\n",
    "# Создаем два графика\n",
    "\n",
    "fig, axs = plt.subplots(figsize=(12, 6))  # Создаем фигуру для графика\n",
    "canvas = FigureCanvasTkAgg(fig, frame)\n",
    "canvas.get_tk_widget().pack(side=tk.LEFT, padx=10, pady=10)\n",
    "\n",
    "# Создаем вторую фигуру\n",
    "fign = plt.figure(figsize=(12, 6))\n",
    "ax = fign.add_subplot(111) \n",
    "# Create the canvas for the main figure\n",
    "canvas = FigureCanvasTkAgg(fign, frame)\n",
    "canvas.get_tk_widget().pack(side=tk.LEFT, padx=10, pady=10)\n",
    "\n",
    "root.mainloop()\n",
    "\n",
    "\n"
   ]
  },
  {
   "cell_type": "code",
   "execution_count": null,
   "metadata": {},
   "outputs": [],
   "source": []
  },
  {
   "cell_type": "code",
   "execution_count": 6,
   "metadata": {},
   "outputs": [
    {
     "ename": "NameError",
     "evalue": "name 'frame' is not defined",
     "output_type": "error",
     "traceback": [
      "\u001b[1;31m---------------------------------------------------------------------------\u001b[0m",
      "\u001b[1;31mNameError\u001b[0m                                 Traceback (most recent call last)",
      "Cell \u001b[1;32mIn[6], line 8\u001b[0m\n\u001b[0;32m      4\u001b[0m \u001b[38;5;28;01mfrom\u001b[39;00m \u001b[38;5;21;01mmatplotlib\u001b[39;00m\u001b[38;5;21;01m.\u001b[39;00m\u001b[38;5;21;01mbackends\u001b[39;00m\u001b[38;5;21;01m.\u001b[39;00m\u001b[38;5;21;01mbackend_tkagg\u001b[39;00m \u001b[38;5;28;01mimport\u001b[39;00m FigureCanvasTkAgg\n\u001b[0;32m      7\u001b[0m figv, axs \u001b[38;5;241m=\u001b[39m plt\u001b[38;5;241m.\u001b[39msubplots(figsize\u001b[38;5;241m=\u001b[39m(\u001b[38;5;241m12\u001b[39m, \u001b[38;5;241m6\u001b[39m))  \u001b[38;5;66;03m# Изменили размер и количество графиков\u001b[39;00m\n\u001b[1;32m----> 8\u001b[0m canvas \u001b[38;5;241m=\u001b[39m FigureCanvasTkAgg(figv, \u001b[43mframe\u001b[49m)\n\u001b[0;32m      9\u001b[0m canvas\u001b[38;5;241m.\u001b[39mget_tk_widget()\u001b[38;5;241m.\u001b[39mpack(side\u001b[38;5;241m=\u001b[39mtk\u001b[38;5;241m.\u001b[39mLEFT, padx\u001b[38;5;241m=\u001b[39m\u001b[38;5;241m10\u001b[39m, pady\u001b[38;5;241m=\u001b[39m\u001b[38;5;241m10\u001b[39m)\n\u001b[0;32m     13\u001b[0m \u001b[38;5;28;01mdef\u001b[39;00m \u001b[38;5;21mplot_graph\u001b[39m():\n",
      "\u001b[1;31mNameError\u001b[0m: name 'frame' is not defined"
     ]
    },
    {
     "data": {
      "image/png": "[encoded data removed]",
      "text/plain": [
       "<Figure size 1200x600 with 1 Axes>"
      ]
     },
     "metadata": {},
     "output_type": "display_data"
    }
   ],
   "source": [
    "#функция построения графика\n",
    "import pandas as pd\n",
    "import matplotlib.pyplot as plt\n",
    "from matplotlib.backends.backend_tkagg import FigureCanvasTkAgg\n",
    "\n",
    "\n",
    "figv, axs = plt.subplots(figsize=(12, 6))  # Изменили размер и количество графиков\n",
    "canvas = FigureCanvasTkAgg(figv, frame)\n",
    "canvas.get_tk_widget().pack(side=tk.LEFT, padx=10, pady=10)\n",
    "\n",
    "\n",
    "\n",
    "def plot_graph():\n",
    "    df = pd.read_csv('data_8_without_duplicates.csv')\n",
    "    if 'DateTime' not in df.columns:\n",
    "        messagebox.showinfo(\"Секунду\", \"Обрабатываем файл\")\n",
    "        df.columns = list(df.columns) + ['DateTime']\n",
    "\n",
    "    df.to_csv('data_8_without_duplicates.csv', index=False) \n",
    "    df['DateTime'] = pd.to_datetime(df['DateTime'], infer_datetime_format=True)\n",
    "\n",
    "    df.set_index('DateTime')[['ssx10mag10cp930','ssx10pab20ct001','ssx10pab10ct001','ssxtg_2ce003',\n",
    "                               'ssx10lca10ct001','ssx10pab10cf001','ssx10lbg11cp920','ssx10lbg40cp920',\n",
    "                               'ssx10pab60ct001','ssx10pab30ct001','ssx10maa01cp001','ssx10lca20cf001',\n",
    "                               'ssx10maa01ct001','ssx10pab30cf001']].plot(subplots=True, ax=axs.flatten(), sharex=True,  fontsize=6)\n",
    "    plt.show()\n",
    "\n",
    "\n",
    "plot_graph()"
   ]
  },
  {
   "cell_type": "code",
   "execution_count": 25,
   "metadata": {},
   "outputs": [
    {
     "data": {
      "text/html": [
       "<pre style=\"white-space:pre;overflow-x:auto;line-height:normal;font-family:Menlo,'DejaVu Sans Mono',consolas,'Courier New',monospace\"><span style=\"font-weight: bold\">Model: \"sequential\"</span>\n",
       "</pre>\n"
      ],
      "text/plain": [
       "\u001b[1mModel: \"sequential\"\u001b[0m\n"
      ]
     },
     "metadata": {},
     "output_type": "display_data"
    },
    {
     "data": {
      "text/html": [
       "<pre style=\"white-space:pre;overflow-x:auto;line-height:normal;font-family:Menlo,'DejaVu Sans Mono',consolas,'Courier New',monospace\">┏━━━━━━━━━━━━━━━━━━━━━━━━━━━━━━━━━┳━━━━━━━━━━━━━━━━━━━━━━━━┳━━━━━━━━━━━━━━━┓\n",
       "┃<span style=\"font-weight: bold\"> Layer (type)                    </span>┃<span style=\"font-weight: bold\"> Output Shape           </span>┃<span style=\"font-weight: bold\">       Param # </span>┃\n",
       "┡━━━━━━━━━━━━━━━━━━━━━━━━━━━━━━━━━╇━━━━━━━━━━━━━━━━━━━━━━━━╇━━━━━━━━━━━━━━━┩\n",
       "│ lstm (<span style=\"color: #0087ff; text-decoration-color: #0087ff\">LSTM</span>)                     │ (<span style=\"color: #00d7ff; text-decoration-color: #00d7ff\">None</span>, <span style=\"color: #00af00; text-decoration-color: #00af00\">100</span>)            │        <span style=\"color: #00af00; text-decoration-color: #00af00\">46,000</span> │\n",
       "├─────────────────────────────────┼────────────────────────┼───────────────┤\n",
       "│ dropout (<span style=\"color: #0087ff; text-decoration-color: #0087ff\">Dropout</span>)               │ (<span style=\"color: #00d7ff; text-decoration-color: #00d7ff\">None</span>, <span style=\"color: #00af00; text-decoration-color: #00af00\">100</span>)            │             <span style=\"color: #00af00; text-decoration-color: #00af00\">0</span> │\n",
       "├─────────────────────────────────┼────────────────────────┼───────────────┤\n",
       "│ dense (<span style=\"color: #0087ff; text-decoration-color: #0087ff\">Dense</span>)                   │ (<span style=\"color: #00d7ff; text-decoration-color: #00d7ff\">None</span>, <span style=\"color: #00af00; text-decoration-color: #00af00\">336</span>)            │        <span style=\"color: #00af00; text-decoration-color: #00af00\">33,936</span> │\n",
       "├─────────────────────────────────┼────────────────────────┼───────────────┤\n",
       "│ reshape (<span style=\"color: #0087ff; text-decoration-color: #0087ff\">Reshape</span>)               │ (<span style=\"color: #00d7ff; text-decoration-color: #00d7ff\">None</span>, <span style=\"color: #00af00; text-decoration-color: #00af00\">24</span>, <span style=\"color: #00af00; text-decoration-color: #00af00\">14</span>)         │             <span style=\"color: #00af00; text-decoration-color: #00af00\">0</span> │\n",
       "└─────────────────────────────────┴────────────────────────┴───────────────┘\n",
       "</pre>\n"
      ],
      "text/plain": [
       "┏━━━━━━━━━━━━━━━━━━━━━━━━━━━━━━━━━┳━━━━━━━━━━━━━━━━━━━━━━━━┳━━━━━━━━━━━━━━━┓\n",
       "┃\u001b[1m \u001b[0m\u001b[1mLayer (type)                   \u001b[0m\u001b[1m \u001b[0m┃\u001b[1m \u001b[0m\u001b[1mOutput Shape          \u001b[0m\u001b[1m \u001b[0m┃\u001b[1m \u001b[0m\u001b[1m      Param #\u001b[0m\u001b[1m \u001b[0m┃\n",
       "┡━━━━━━━━━━━━━━━━━━━━━━━━━━━━━━━━━╇━━━━━━━━━━━━━━━━━━━━━━━━╇━━━━━━━━━━━━━━━┩\n",
       "│ lstm (\u001b[38;5;33mLSTM\u001b[0m)                     │ (\u001b[38;5;45mNone\u001b[0m, \u001b[38;5;34m100\u001b[0m)            │        \u001b[38;5;34m46,000\u001b[0m │\n",
       "├─────────────────────────────────┼────────────────────────┼───────────────┤\n",
       "│ dropout (\u001b[38;5;33mDropout\u001b[0m)               │ (\u001b[38;5;45mNone\u001b[0m, \u001b[38;5;34m100\u001b[0m)            │             \u001b[38;5;34m0\u001b[0m │\n",
       "├─────────────────────────────────┼────────────────────────┼───────────────┤\n",
       "│ dense (\u001b[38;5;33mDense\u001b[0m)                   │ (\u001b[38;5;45mNone\u001b[0m, \u001b[38;5;34m336\u001b[0m)            │        \u001b[38;5;34m33,936\u001b[0m │\n",
       "├─────────────────────────────────┼────────────────────────┼───────────────┤\n",
       "│ reshape (\u001b[38;5;33mReshape\u001b[0m)               │ (\u001b[38;5;45mNone\u001b[0m, \u001b[38;5;34m24\u001b[0m, \u001b[38;5;34m14\u001b[0m)         │             \u001b[38;5;34m0\u001b[0m │\n",
       "└─────────────────────────────────┴────────────────────────┴───────────────┘\n"
      ]
     },
     "metadata": {},
     "output_type": "display_data"
    },
    {
     "data": {
      "text/html": [
       "<pre style=\"white-space:pre;overflow-x:auto;line-height:normal;font-family:Menlo,'DejaVu Sans Mono',consolas,'Courier New',monospace\"><span style=\"font-weight: bold\"> Total params: </span><span style=\"color: #00af00; text-decoration-color: #00af00\">239,810</span> (936.76 KB)\n",
       "</pre>\n"
      ],
      "text/plain": [
       "\u001b[1m Total params: \u001b[0m\u001b[38;5;34m239,810\u001b[0m (936.76 KB)\n"
      ]
     },
     "metadata": {},
     "output_type": "display_data"
    },
    {
     "data": {
      "text/html": [
       "<pre style=\"white-space:pre;overflow-x:auto;line-height:normal;font-family:Menlo,'DejaVu Sans Mono',consolas,'Courier New',monospace\"><span style=\"font-weight: bold\"> Trainable params: </span><span style=\"color: #00af00; text-decoration-color: #00af00\">79,936</span> (312.25 KB)\n",
       "</pre>\n"
      ],
      "text/plain": [
       "\u001b[1m Trainable params: \u001b[0m\u001b[38;5;34m79,936\u001b[0m (312.25 KB)\n"
      ]
     },
     "metadata": {},
     "output_type": "display_data"
    },
    {
     "data": {
      "text/html": [
       "<pre style=\"white-space:pre;overflow-x:auto;line-height:normal;font-family:Menlo,'DejaVu Sans Mono',consolas,'Courier New',monospace\"><span style=\"font-weight: bold\"> Non-trainable params: </span><span style=\"color: #00af00; text-decoration-color: #00af00\">0</span> (0.00 B)\n",
       "</pre>\n"
      ],
      "text/plain": [
       "\u001b[1m Non-trainable params: \u001b[0m\u001b[38;5;34m0\u001b[0m (0.00 B)\n"
      ]
     },
     "metadata": {},
     "output_type": "display_data"
    },
    {
     "data": {
      "text/html": [
       "<pre style=\"white-space:pre;overflow-x:auto;line-height:normal;font-family:Menlo,'DejaVu Sans Mono',consolas,'Courier New',monospace\"><span style=\"font-weight: bold\"> Optimizer params: </span><span style=\"color: #00af00; text-decoration-color: #00af00\">159,874</span> (624.51 KB)\n",
       "</pre>\n"
      ],
      "text/plain": [
       "\u001b[1m Optimizer params: \u001b[0m\u001b[38;5;34m159,874\u001b[0m (624.51 KB)\n"
      ]
     },
     "metadata": {},
     "output_type": "display_data"
    },
    {
     "name": "stdout",
     "output_type": "stream",
     "text": [
      "None\n",
      "[<LSTM name=lstm, built=True>, <Dropout name=dropout, built=True>, <Dense name=dense, built=True>, <Reshape name=reshape, built=True>]\n",
      "[<KerasVariable shape=(14, 400), dtype=float32, path=lstm/lstm_cell/kernel>, <KerasVariable shape=(100, 400), dtype=float32, path=lstm/lstm_cell/recurrent_kernel>, <KerasVariable shape=(400,), dtype=float32, path=lstm/lstm_cell/bias>, <KerasVariable shape=(100, 336), dtype=float32, path=dense/kernel>, <KerasVariable shape=(336,), dtype=float32, path=dense/bias>]\n",
      "(None, 72, 14)\n",
      "(None, 24, 14)\n",
      "<keras.src.optimizers.adam.Adam object at 0x000001D9AD2A1160>\n",
      "<keras.src.losses.losses.MeanSquaredError object at 0x000001D9AD2D5C10>\n",
      "[<Mean name=loss>, <CompileMetrics name=compile_metrics>]\n"
     ]
    }
   ],
   "source": [
    "\n",
    "import pickle\n",
    "lstm_model_file = \"lstm_model_prediction.pkl\"\n",
    "# load model from pickle file\n",
    "with open(lstm_model_file, 'rb') as file:  \n",
    "    model = pickle.load(file)\n",
    "\n"
   ]
  }
 ],
 "metadata": {
  "kernelspec": {
   "display_name": "Python 3",
   "language": "python",
   "name": "python3"
  },
  "language_info": {
   "codemirror_mode": {
    "name": "ipython",
    "version": 3
   },
   "file_extension": ".py",
   "mimetype": "text/x-python",
   "name": "python",
   "nbconvert_exporter": "python",
   "pygments_lexer": "ipython3",
   "version": "3.12.4"
  }
 },
 "nbformat": 4,
 "nbformat_minor": 2
}
